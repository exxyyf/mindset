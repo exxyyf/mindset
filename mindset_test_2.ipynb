{
 "cells": [
  {
   "cell_type": "markdown",
   "id": "18f02abb",
   "metadata": {},
   "source": [
    "# Классификация мебели внутри интерьера с помощью нейросети, дообученной на синтетических данных"
   ]
  },
  {
   "cell_type": "markdown",
   "id": "17760fb3",
   "metadata": {},
   "source": [
    "**Описание проекта:**\n",
    "\n",
    "Целью данного проекта является создание рабочей нейросети для классификации видов мебели на снимках интерьера, по заданию для обучения модели требуется подготовить синтетический датасет из 1000 изображений, на котором нужно дообучить предобученную нейросеть.\n",
    "\n",
    "\n",
    "**Состав проекта:**\n",
    "\n",
    "Данный проект можно условно поделить на две задачи: \n",
    "- создание датасета\n",
    "- создание нейросети\n",
    "<br></br>\n",
    "\n",
    "Таким образом, состав проекта следующий:\n",
    "1. **Создание датасета**\n",
    "  - создание 3D модели интерьера в Unity\n",
    "  - настройка рандомизации положения камеры с помощью модуля Unity Perception и кастомных скриптов\n",
    "  - настройка аннотации изображений (всего 3 класса мебели - стул, стол, диван)\n",
    "  - настройка сценария и создание датасета\n",
    "  - перевод датасета в формат Common Objects in Context (COCO)\n",
    " \n",
    "2. **Создание нейросети**\n",
    " - создание нейросети на основе CNN в Pytorch с выходными нейронами согласно числу классов (всего классов получилось 7, так как решаем задачу классификации объектов: 3 класса одиночных предметов, еще 3 класса их комбинаций типа \"стол + стул\", один класс для случаев, когда все три типа находятся в кадре)\n",
    " - тестирование нейросети на реальных изображениях интерьеров"
   ]
  },
  {
   "cell_type": "markdown",
   "id": "59b2289f",
   "metadata": {},
   "source": [
    "<h2>Создание датасета</h2>\n"
   ]
  },
  {
   "cell_type": "markdown",
   "id": "7cd2c48f",
   "metadata": {},
   "source": [
    "<h3>Создание модели интерьера в Unity</h3>\n",
    "\n",
    "С помощью программы 3dsMax я создала комнату с окнами и назначила ей материалы. Затем, с помощью экспорта в формат .fbx она была перенесена в Unity. Далее путем загрузки моделей мебели в 3DsMax, экспорта их в .fbx и импорта их в Unity были размещены предметы мебели. \n",
    "\n",
    "При выполнении данной задачи я столкнулась с трудностями поддержки некоторых материалов и текстур - их пришлось заново назначать в Unity, формат .fbx, к сожалению, не позволил произвести импорт чисто."
   ]
  },
  {
   "cell_type": "markdown",
   "id": "ec36b55c",
   "metadata": {},
   "source": [
    "![](/img/image_1.png)"
   ]
  },
  {
   "cell_type": "markdown",
   "id": "1735171f",
   "metadata": {},
   "source": [
    "<h3>Настройка рандомизации положения камеры</h3>\n",
    "\n",
    "Далее с помощью модуля **Unity Perception** я назначила камеру, установила рандомизацию камеры, создала сценарий ее перемещения и формат выходных изображений 224px x 224px. Модуль **Perception** позволяет также настроить рандомизацию цветов предметов, в данном случае применяю рандомизацию цвета стен и мебели."
   ]
  },
  {
   "cell_type": "markdown",
   "id": "31d65ea1",
   "metadata": {},
   "source": [
    "*Скрипт настройки поворота камеры:*\n",
    "```c#\n",
    "using System;\n",
    "using System.Collections;\n",
    "using System.Collections.Generic;\n",
    "using UnityEngine;\n",
    "using UnityEngine.Perception.Randomization.Parameters;\n",
    "using UnityEngine.Perception.Randomization.Randomizers;\n",
    "\n",
    "[Serializable]\n",
    "[AddRandomizerMenu(\"Perception/Camera Randomizer2\")]\n",
    "\n",
    "public class CameraRandomizer2 : Randomizer\n",
    "{\n",
    "    public FloatParameter cameraYRotation;\n",
    "    public Camera mainCamera;\n",
    "\n",
    "    protected override void OnIterationStart()\n",
    "    {\n",
    "        var elevation = cameraYRotation.Sample();\n",
    "\n",
    "        mainCamera.transform.rotation = Quaternion.Euler(0f, elevation, 0f);\n",
    "        \n",
    "    }\n",
    "}\n",
    "```"
   ]
  },
  {
   "cell_type": "markdown",
   "id": "6dc0b593",
   "metadata": {},
   "source": [
    "<h3>Настройка аннотации изображений</h3>\n",
    "\n",
    "В Perception имеются несколько режимов аннотации изображений - создание BoundingBox, масок для сегментации изображений. Для конкретной задачи классификации был выбран **BoundingBox2DLabeler**, в котором я указала три класса - `table`, `sofa`, `chair`.\n",
    "\n",
    "Итогом работы данного лейблера стал json-файл, в котором были указаны классы предметов, находящихся в кадре, и координаты описывающих их прямоугольников."
   ]
  },
  {
   "cell_type": "markdown",
   "id": "0098a17f",
   "metadata": {},
   "source": [
    "Ниже приведена схема устройства аннотации файлов в Unity Perception:\n",
    "\n"
   ]
  },
  {
   "cell_type": "markdown",
   "id": "b007dd9e",
   "metadata": {},
   "source": [
    "![](/img/image_2.png)"
   ]
  },
  {
   "cell_type": "markdown",
   "id": "06926ca1",
   "metadata": {},
   "source": [
    "Результатом работы с Unity стал датасет с трехканальными цветными rgb-изображениями разных ракурсов интерьера с мебелью внутри в количестве 1000 штук и файлы аннотаций в формате json.\n"
   ]
  },
  {
   "cell_type": "markdown",
   "id": "90fa7b68",
   "metadata": {},
   "source": [
    "![](/img/image_3.png)"
   ]
  },
  {
   "cell_type": "markdown",
   "id": "43ce732b",
   "metadata": {},
   "source": [
    "<h3>Конвертация датасета в формат Common Objects in Context (COCO)</h3>"
   ]
  },
  {
   "cell_type": "markdown",
   "id": "2d456e35",
   "metadata": {},
   "source": [
    "Для выполнения данной процедуры были опробованы несколько инструментов. Успешным оказался [код](https://github.com/lessw2020/perception_tools/blob/main/perception_to_coco.ipynb) с просторов гитхаб:"
   ]
  },
  {
   "cell_type": "code",
   "execution_count": 1,
   "id": "702b235a",
   "metadata": {
    "scrolled": true
   },
   "outputs": [
    {
     "name": "stderr",
     "output_type": "stream",
     "text": [
      "C:\\Users\\User\\anaconda3\\envs\\new\\lib\\site-packages\\numpy\\_distributor_init.py:30: UserWarning: loaded more than 1 DLL from .libs:\n",
      "C:\\Users\\User\\anaconda3\\envs\\new\\lib\\site-packages\\numpy\\.libs\\libopenblas.FB5AE2TYXYH2IJRDKGDGQ3XBKLKTF43H.gfortran-win_amd64.dll\n",
      "C:\\Users\\User\\anaconda3\\envs\\new\\lib\\site-packages\\numpy\\.libs\\libopenblas64__v0.3.21-gcc_10_3_0.dll\n",
      "  warnings.warn(\"loaded more than 1 DLL from .libs:\"\n"
     ]
    }
   ],
   "source": [
    "%reload_ext autoreload\n",
    "%autoreload 2\n",
    "%matplotlib inline\n",
    "\n",
    "from pathlib import Path, PurePath\n",
    "\n",
    "import json\n",
    "from copy import deepcopy\n",
    "import os\n",
    "from datetime import datetime as dt"
   ]
  },
  {
   "cell_type": "code",
   "execution_count": null,
   "id": "fe3c5720",
   "metadata": {},
   "outputs": [],
   "source": [
    "Path.cwd()"
   ]
  },
  {
   "cell_type": "code",
   "execution_count": 4,
   "id": "3a2a7e4b",
   "metadata": {},
   "outputs": [],
   "source": [
    "def require_dir(item, type=\"Dataset\"):\n",
    "    itemp = Path(item)\n",
    "    if not itemp.is_dir():\n",
    "        raise ValueError(f\"directory of type {type} not found. aborting...\")\n",
    "\n",
    "def get_sub_folders(upper_path):\n",
    "    # verify upper path\n",
    "    fpath = Path(upper_path)\n",
    "    \n",
    "    require_dir(fpath, \"Perception root dir\")  # will break with raise error if not dir\n",
    "    \n",
    "    # get required subfolders\n",
    "    # dataset\n",
    "    #subdirs = [f.path for f in os.scandir(upper_path) if f.is_dir() ]\n",
    "    \n",
    "    dataset_glob = fpath.glob(\"Dataset*\")\n",
    "    try:\n",
    "        dataset_dir = next(dataset_glob) \n",
    "    except StopIteration:\n",
    "        print(f\"** failed to get Dataset dir. aborting..\")\n",
    "        return None, None\n",
    "    \n",
    "    require_dir(dataset_dir, \"Dataset\")\n",
    "    \n",
    "    print(f\"--> using {dataset_dir.name} to generate annotations\")\n",
    "    \n",
    "    image_glob = fpath.glob(\"RGB*\")\n",
    "    \n",
    "    try:\n",
    "        image_dir = next(image_glob)\n",
    "    except StopIteration:\n",
    "        print(f\"** failed to get an image dir. aborting...\")\n",
    "        return None, None\n",
    "        \n",
    "    \n",
    "    print(f\"--> using {image_dir.name} for images\")\n",
    "    \n",
    "    \n",
    "        \n",
    "    \n",
    "        \n",
    "    return image_dir, dataset_dir\n",
    "def get_anno_file(dataset_dir):\n",
    "    anno_file = dataset_dir/'annotation_definitions.json'\n",
    "    return anno_file\n",
    "def open_json(fpath):\n",
    "    try:\n",
    "        with open(str(fpath)) as f:\n",
    "            jh = json.load(f)\n",
    "    except:\n",
    "        raise ValueError(f\"failed to open {fpath} for read\")\n",
    "    return jh\n",
    "def get_perception_categories(anno_file, show_info=True, supercategory = \"rdt\"):\n",
    "    \n",
    "    fh = open_json(anno_file)\n",
    "    anno_list = fh['annotation_definitions']\n",
    "    spec = anno_list[0]\n",
    "    spec = spec['spec']\n",
    "    print(f\"\\n--> labels in perception definitions:\\n\")\n",
    "    for item in spec:\n",
    "        print(item)\n",
    "    \n",
    "    print(f\"\\n-->building coco categories:\")\n",
    "    coco_category_block = []\n",
    "    for item in spec:\n",
    "        holding = {}\n",
    "        holding['id']= item['label_id']\n",
    "        \n",
    "        holding['name'] = item['label_name']\n",
    "        holding['supercategory']=supercategory\n",
    "        print(holding)\n",
    "        coco_category_block.append(holding)\n",
    "    return coco_category_block\n",
    "    \n",
    "    \n",
    "def get_perception_annotations(anno_dir, image_width=224, image_height=224):\n",
    "    \n",
    "    anno_id = 0  # can also start with 1 if desired\n",
    "    image_id = 0\n",
    "    \n",
    "    images_block = []\n",
    "    annos_block = []\n",
    "    \n",
    "    capture_files = anno_dir.glob('captures*.json')\n",
    "    \n",
    "    for j,_ in enumerate(capture_files):\n",
    "        pass\n",
    "    \n",
    "    print(f\"\\n--> {j+1} capture files detected. Processing...\")\n",
    "    \n",
    "    # processing\n",
    "    capture_files = anno_dir.glob('captures*.json')\n",
    "    \n",
    "    for item in capture_files:\n",
    "    \n",
    "        fh = open_json(item)\n",
    "        \n",
    "        captures = fh['captures']\n",
    "        \n",
    "        for image_entry in captures:\n",
    "            image_dict = {}\n",
    "            \n",
    "            image_dict['id'] = image_id\n",
    "            \n",
    "            fp = Path(image_entry['filename'])\n",
    "            \n",
    "            # it's likely you are exporting all images as same size.\n",
    "            # could open each image and check height/width, but will use passed in args for now\n",
    "            image_dict['width'] = image_width\n",
    "            image_dict['height'] = image_height\n",
    "            image_dict['file_name'] = fp.name\n",
    "            \n",
    "            # dummy values \n",
    "            image_dict['license'] = None\n",
    "            image_dict['flickr_url'] = \"\"\n",
    "            image_dict['coco_url'] = \"\"\n",
    "            image_dict['date_captured'] = \"0:00\"\n",
    "            \n",
    "            images_block.append(deepcopy(image_dict))\n",
    "            \n",
    "            annos = image_entry['annotations']\n",
    "            \n",
    "            ad = {}\n",
    "            \n",
    "            for a in annos:\n",
    "                ad.update(a)\n",
    "            \n",
    "            values = ad['values']\n",
    "                \n",
    "            coco_anno = []\n",
    "            \n",
    "            for item in values:\n",
    "                temp_anno={}\n",
    "                x = item['x']\n",
    "                y = item['y']\n",
    "                w = item['width']\n",
    "                h = item['height']\n",
    "                \n",
    "                bbox = [x,y,w,h]\n",
    "                \n",
    "                temp_anno[\"id\"] = anno_id\n",
    "                temp_anno[\"image_id\"] = image_id\n",
    "                temp_anno[\"category_id\"] = item[\"label_id\"]\n",
    "                \n",
    "                #bbox details\n",
    "                temp_anno[\"bbox\"] = bbox\n",
    "                temp_anno[\"area\"] = int(w*h)\n",
    "                \n",
    "                #segmentation - todo if needed\n",
    "                temp_anno[\"segmentation\"] = None\n",
    "                temp_anno[\"iscrowd\"] = 0\n",
    "                \n",
    "                annos_block.append(deepcopy(temp_anno))\n",
    "\n",
    "                anno_id +=1\n",
    "            \n",
    "            image_id+=1\n",
    "        \n",
    "    print(f\"--> annotation processing completed.\")\n",
    "    return images_block, annos_block\n",
    "                "
   ]
  },
  {
   "cell_type": "code",
   "execution_count": 5,
   "id": "f31be7f2",
   "metadata": {},
   "outputs": [],
   "source": [
    "def convert_perception(base_dir, out_file=\"coco_labels.json\", image_width=224, image_height=224):\n",
    "    \"\"\" \n",
    "    main entry for converting perception output into ready to train coco file\n",
    "    \n",
    "    note - currently image height and width are passed in /hardcoded.  Workaround is can open every image file\n",
    "    and check, or update perception to export image info...for now just using passed in vars\n",
    "    \n",
    "    \"\"\"\n",
    "    \n",
    "    image_dir, dataset_dir = get_sub_folders(base_dir)\n",
    "    \n",
    "    mainfile = {}\n",
    "    \n",
    "    #build info section\n",
    "    infod = {}\n",
    "    \n",
    "    today = dt.today()\n",
    "    infod['year'] = str(today.year)\n",
    "    infod['date_created'] = str(today)\n",
    "\n",
    "    infod['version']= \"1.0\"\n",
    "    infod['contributor']=\"lessw2020\"\n",
    "    infod['url']='https://github.com/lessw2020/perception_tools'\n",
    "    \n",
    "    mainfile['info'] = infod\n",
    "    \n",
    "    mainfile['licenses'] = []\n",
    "    \n",
    "    # get categories\n",
    "    perception_anno = get_anno_file(dataset_dir)\n",
    "    \n",
    "    coco_cats = get_perception_categories(perception_anno)\n",
    "    \n",
    "    mainfile['categories'] = coco_cats\n",
    "    \n",
    "    #print(f\"--> mainfile = {mainfile}\")\n",
    "    \n",
    "    # get annotations\n",
    "    images_block, annos_block = get_perception_annotations(dataset_dir, \n",
    "                                                           image_width, image_height)\n",
    "    \n",
    "    mainfile['images']=images_block\n",
    "    mainfile['annotations'] = annos_block\n",
    "    \n",
    "    if out_file:\n",
    "        save_file = dataset_dir/out_file\n",
    "        with open(save_file,'w') as fh:\n",
    "            json.dump(mainfile, fh)\n",
    "    \n",
    "    # all done\n",
    "    print(f\"\\n--> Processing complete.  Total images = {len(mainfile['images'])}\\n\")\n",
    "    \n",
    "    return mainfile\n"
   ]
  },
  {
   "cell_type": "code",
   "execution_count": 15,
   "id": "cd0886a7",
   "metadata": {},
   "outputs": [],
   "source": [
    "perception_folder = r\"C:\\Users\\User\\AppData\\LocalLow\\DefaultCompany\\NikosRocks\\f56f0963-1311-4f80-ae43-3dd8a7be9f41\""
   ]
  },
  {
   "cell_type": "code",
   "execution_count": 16,
   "id": "6a7105db",
   "metadata": {},
   "outputs": [
    {
     "name": "stdout",
     "output_type": "stream",
     "text": [
      "--> using Datasete43ce145-475c-4a44-b1d8-cdb20523c456 to generate annotations\n",
      "--> using RGB4f8edf59-15fe-4565-aa24-0ec21523f501 for images\n",
      "\n",
      "--> labels in perception definitions:\n",
      "\n",
      "{'label_id': 1, 'label_name': 'sofa'}\n",
      "{'label_id': 2, 'label_name': 'table'}\n",
      "{'label_id': 3, 'label_name': 'chair'}\n",
      "\n",
      "-->building coco categories:\n",
      "{'id': 1, 'name': 'sofa', 'supercategory': 'rdt'}\n",
      "{'id': 2, 'name': 'table', 'supercategory': 'rdt'}\n",
      "{'id': 3, 'name': 'chair', 'supercategory': 'rdt'}\n",
      "\n",
      "--> 7 capture files detected. Processing...\n",
      "--> annotation processing completed.\n",
      "\n",
      "--> Processing complete.  Total images = 1000\n",
      "\n"
     ]
    }
   ],
   "source": [
    "z = convert_perception(perception_folder)"
   ]
  },
  {
   "cell_type": "markdown",
   "id": "e8b6612b",
   "metadata": {},
   "source": [
    "Благодаря этой операции появился файл `coco_labels.json`."
   ]
  },
  {
   "cell_type": "markdown",
   "id": "e10f949c",
   "metadata": {},
   "source": [
    "Как пример, посмотрим на картинку номер 207. На ней изображены стол и стулья:\n",
    "\n",
    "![](/img/image_4.png)\n",
    "\n",
    "Теперь найдем в `coco_labels.json` информацию об этой картинке по номеру:\n",
    "```json\n",
    "{\"id\": 514, \"image_id\": 207, \"category_id\": 3, \"bbox\": [148.0, 104.0, 40.0, 41.0], \"area\": 1640, \"segmentation\": null, \"iscrowd\": 0}, {\"id\": 515, \"image_id\": 207, \"category_id\": 1, \"bbox\": [218.0, 117.0, 6.0, 40.0], \"area\": 240, \"segmentation\": null, \"iscrowd\": 0}, {\"id\": 516, \"image_id\": 207, \"category_id\": 3, \"bbox\": [0.0, 121.0, 26.0, 47.0], \"area\": 1222, \"segmentation\": null, \"iscrowd\": 0}\n",
    "```\n",
    "\n",
    "Видим категории 3, 3 и 1. Все совпало с нашими аннотациями."
   ]
  },
  {
   "cell_type": "markdown",
   "id": "d678d616",
   "metadata": {},
   "source": [
    "<h2>Создание нейросети для решения задачи классификации</h2>"
   ]
  },
  {
   "cell_type": "code",
   "execution_count": 102,
   "id": "76fc0fb3",
   "metadata": {},
   "outputs": [],
   "source": [
    "import torch\n",
    "from pycocotools.coco import COCO\n",
    "import torch.utils.data as data\n",
    "from PIL import Image\n",
    "import os\n",
    "import os.path\n",
    "\n",
    "import torchvision.datasets as dset\n",
    "import torchvision.transforms as transforms\n",
    "import torchvision\n",
    "\n",
    "import matplotlib.pyplot as plt\n",
    "import numpy as np\n",
    "import pandas as pd"
   ]
  },
  {
   "cell_type": "code",
   "execution_count": 19,
   "id": "e578e8ad",
   "metadata": {},
   "outputs": [],
   "source": [
    "path_annotations = r'C:\\Users\\User\\AppData\\LocalLow\\DefaultCompany\\NikosRocks\\f56f0963-1311-4f80-ae43-3dd8a7be9f41\\Datasete43ce145-475c-4a44-b1d8-cdb20523c456\\coco_labels.json'\n",
    "path_rgb = r'C:\\Users\\User\\AppData\\LocalLow\\DefaultCompany\\NikosRocks\\f56f0963-1311-4f80-ae43-3dd8a7be9f41\\RGB4f8edf59-15fe-4565-aa24-0ec21523f501'"
   ]
  },
  {
   "cell_type": "code",
   "execution_count": 27,
   "id": "04003596",
   "metadata": {},
   "outputs": [
    {
     "name": "stdout",
     "output_type": "stream",
     "text": [
      "loading annotations into memory...\n",
      "Done (t=0.02s)\n",
      "creating index...\n",
      "index created!\n"
     ]
    }
   ],
   "source": [
    "cap = dset.CocoDetection(root=path_rgb,\n",
    "                        annFile=path_annotations,\n",
    "                        transform=transforms.ToTensor())"
   ]
  },
  {
   "cell_type": "code",
   "execution_count": 28,
   "id": "ffdee321",
   "metadata": {},
   "outputs": [
    {
     "name": "stdout",
     "output_type": "stream",
     "text": [
      "Number of samples:  1000\n"
     ]
    }
   ],
   "source": [
    "print('Number of samples: ', len(cap))"
   ]
  },
  {
   "cell_type": "code",
   "execution_count": 57,
   "id": "091a0844",
   "metadata": {},
   "outputs": [
    {
     "data": {
      "text/plain": [
       "Dataset CocoDetection\n",
       "    Number of datapoints: 1000\n",
       "    Root location: C:\\Users\\User\\AppData\\LocalLow\\DefaultCompany\\NikosRocks\\f56f0963-1311-4f80-ae43-3dd8a7be9f41\\RGB4f8edf59-15fe-4565-aa24-0ec21523f501\n",
       "    StandardTransform\n",
       "Transform: ToTensor()"
      ]
     },
     "execution_count": 57,
     "metadata": {},
     "output_type": "execute_result"
    }
   ],
   "source": [
    "cap"
   ]
  },
  {
   "cell_type": "code",
   "execution_count": 58,
   "id": "56884201",
   "metadata": {},
   "outputs": [],
   "source": [
    "img, target = cap[0]"
   ]
  },
  {
   "cell_type": "code",
   "execution_count": 59,
   "id": "17b27411",
   "metadata": {},
   "outputs": [
    {
     "name": "stdout",
     "output_type": "stream",
     "text": [
      "Image Size:  torch.Size([3, 224, 224])\n",
      "[{'id': 0, 'image_id': 0, 'category_id': 1, 'bbox': [102.0, 99.0, 122.0, 50.0], 'area': 6100, 'segmentation': None, 'iscrowd': 0}, {'id': 1, 'image_id': 0, 'category_id': 2, 'bbox': [0.0, 86.0, 74.0, 78.0], 'area': 5772, 'segmentation': None, 'iscrowd': 0}]\n"
     ]
    }
   ],
   "source": [
    "print(\"Image Size: \", img.size())\n",
    "print(target)"
   ]
  },
  {
   "cell_type": "code",
   "execution_count": 60,
   "id": "3d9f6b6f",
   "metadata": {},
   "outputs": [
    {
     "data": {
      "text/plain": [
       "tensor([[[0.3765, 0.3765, 0.3765,  ..., 0.1804, 0.1804, 0.1804],\n",
       "         [0.3686, 0.3725, 0.3725,  ..., 0.1804, 0.1804, 0.1804],\n",
       "         [0.3725, 0.3725, 0.3686,  ..., 0.1804, 0.1804, 0.1804],\n",
       "         ...,\n",
       "         [0.4353, 0.4510, 0.4235,  ..., 0.5490, 0.5529, 0.5608],\n",
       "         [0.4235, 0.4314, 0.4314,  ..., 0.5569, 0.5608, 0.5608],\n",
       "         [0.4314, 0.4314, 0.4353,  ..., 0.5059, 0.5490, 0.5725]],\n",
       "\n",
       "        [[0.3647, 0.3647, 0.3647,  ..., 0.2510, 0.2510, 0.2510],\n",
       "         [0.3608, 0.3647, 0.3647,  ..., 0.2510, 0.2510, 0.2510],\n",
       "         [0.3647, 0.3647, 0.3608,  ..., 0.2510, 0.2510, 0.2510],\n",
       "         ...,\n",
       "         [0.4196, 0.4314, 0.4157,  ..., 0.4549, 0.4549, 0.4627],\n",
       "         [0.4157, 0.4196, 0.4235,  ..., 0.4627, 0.4627, 0.4627],\n",
       "         [0.4235, 0.4235, 0.4235,  ..., 0.4275, 0.4549, 0.4745]],\n",
       "\n",
       "        [[0.3569, 0.3569, 0.3569,  ..., 0.1451, 0.1451, 0.1451],\n",
       "         [0.3490, 0.3529, 0.3529,  ..., 0.1451, 0.1451, 0.1451],\n",
       "         [0.3529, 0.3490, 0.3490,  ..., 0.1451, 0.1451, 0.1451],\n",
       "         ...,\n",
       "         [0.3882, 0.3882, 0.3882,  ..., 0.3333, 0.3333, 0.3373],\n",
       "         [0.3882, 0.3961, 0.3961,  ..., 0.3373, 0.3373, 0.3373],\n",
       "         [0.3961, 0.3961, 0.3961,  ..., 0.3255, 0.3373, 0.3412]]])"
      ]
     },
     "execution_count": 60,
     "metadata": {},
     "output_type": "execute_result"
    }
   ],
   "source": [
    "img"
   ]
  },
  {
   "cell_type": "code",
   "execution_count": 92,
   "id": "943b91a5",
   "metadata": {},
   "outputs": [],
   "source": [
    "def imshow(img):\n",
    "    img = img * 255    # unnormalize\n",
    "    npimg = img.numpy()\n",
    "    plt.imshow(np.transpose(npimg, (1, 2, 0)).astype(np.uint8))\n",
    "    plt.show()"
   ]
  },
  {
   "cell_type": "code",
   "execution_count": 93,
   "id": "ec2dbb26",
   "metadata": {
    "scrolled": false
   },
   "outputs": [
    {
     "data": {
      "image/png": "[encoded data removed]",
      "text/plain": [
       "<Figure size 640x480 with 1 Axes>"
      ]
     },
     "metadata": {},
     "output_type": "display_data"
    }
   ],
   "source": [
    "imshow(img)"
   ]
  },
  {
   "cell_type": "code",
   "execution_count": 78,
   "id": "9fe593f8",
   "metadata": {
    "scrolled": true
   },
   "outputs": [
    {
     "data": {
      "text/plain": [
       "[{'id': 0,\n",
       "  'image_id': 0,\n",
       "  'category_id': 1,\n",
       "  'bbox': [102.0, 99.0, 122.0, 50.0],\n",
       "  'area': 6100,\n",
       "  'segmentation': None,\n",
       "  'iscrowd': 0},\n",
       " {'id': 1,\n",
       "  'image_id': 0,\n",
       "  'category_id': 2,\n",
       "  'bbox': [0.0, 86.0, 74.0, 78.0],\n",
       "  'area': 5772,\n",
       "  'segmentation': None,\n",
       "  'iscrowd': 0}]"
      ]
     },
     "execution_count": 78,
     "metadata": {},
     "output_type": "execute_result"
    }
   ],
   "source": [
    "target"
   ]
  },
  {
   "cell_type": "code",
   "execution_count": 94,
   "id": "19e4645a",
   "metadata": {},
   "outputs": [],
   "source": [
    "img, target = cap[1]"
   ]
  },
  {
   "cell_type": "code",
   "execution_count": 97,
   "id": "f4da3b75",
   "metadata": {},
   "outputs": [
    {
     "data": {
      "text/plain": [
       "1"
      ]
     },
     "execution_count": 97,
     "metadata": {},
     "output_type": "execute_result"
    }
   ],
   "source": [
    "target[0]['image_id']"
   ]
  },
  {
   "cell_type": "code",
   "execution_count": 98,
   "id": "288c216f",
   "metadata": {},
   "outputs": [],
   "source": [
    "def convert_coco_json_to_csv(filename):\n",
    "    import pandas as pd\n",
    "    import json\n",
    "    \n",
    "    # COCO2017/annotations/instances_val2017.json\n",
    "    s = json.load(open(filename, 'r'))\n",
    "    out_file = filename[:-5] + '.csv'\n",
    "    out = open(out_file, 'w')\n",
    "    out.write('id,x1,y1,x2,y2,label\\n')\n",
    "\n",
    "    all_ids = []\n",
    "    for im in s['images']:\n",
    "        all_ids.append(im['id'])\n",
    "\n",
    "    all_ids_ann = []\n",
    "    for ann in s['annotations']:\n",
    "        image_id = ann['image_id']\n",
    "        all_ids_ann.append(image_id)\n",
    "        x1 = ann['bbox'][0]\n",
    "        x2 = ann['bbox'][0] + ann['bbox'][2]\n",
    "        y1 = ann['bbox'][1]\n",
    "        y2 = ann['bbox'][1] + ann['bbox'][3]\n",
    "        label = ann['category_id']\n",
    "        out.write('{},{},{},{},{},{}\\n'.format(image_id, x1, y1, x2, y2, label))\n",
    "\n",
    "    all_ids = set(all_ids)\n",
    "    all_ids_ann = set(all_ids_ann)\n",
    "    no_annotations = list(all_ids - all_ids_ann)\n",
    "    # Output images without any annotations\n",
    "    for image_id in no_annotations:\n",
    "        out.write('{},{},{},{},{},{}\\n'.format(image_id, -1, -1, -1, -1, -1))\n",
    "    out.close()\n",
    "\n",
    "    # Sort file by image id\n",
    "    s1 = pd.read_csv(out_file)\n",
    "    s1.sort_values('id', inplace=True)\n",
    "    s1.to_csv(out_file, index=False)"
   ]
  },
  {
   "cell_type": "code",
   "execution_count": 99,
   "id": "bace66a8",
   "metadata": {},
   "outputs": [],
   "source": [
    "convert_coco_json_to_csv(path_annotations)"
   ]
  },
  {
   "cell_type": "code",
   "execution_count": 100,
   "id": "74ad65ee",
   "metadata": {},
   "outputs": [],
   "source": [
    "path_csv = r'C:\\Users\\User\\AppData\\LocalLow\\DefaultCompany\\NikosRocks\\f56f0963-1311-4f80-ae43-3dd8a7be9f41\\Datasete43ce145-475c-4a44-b1d8-cdb20523c456\\coco_labels.csv'"
   ]
  },
  {
   "cell_type": "code",
   "execution_count": 103,
   "id": "51bbc7c7",
   "metadata": {},
   "outputs": [],
   "source": [
    "data = pd.read_csv(path_csv)"
   ]
  },
  {
   "cell_type": "code",
   "execution_count": 104,
   "id": "5bb356ff",
   "metadata": {},
   "outputs": [
    {
     "name": "stdout",
     "output_type": "stream",
     "text": [
      "<class 'pandas.core.frame.DataFrame'>\n",
      "RangeIndex: 2492 entries, 0 to 2491\n",
      "Data columns (total 6 columns):\n",
      " #   Column  Non-Null Count  Dtype  \n",
      "---  ------  --------------  -----  \n",
      " 0   id      2492 non-null   int64  \n",
      " 1   x1      2492 non-null   float64\n",
      " 2   y1      2492 non-null   float64\n",
      " 3   x2      2492 non-null   float64\n",
      " 4   y2      2492 non-null   float64\n",
      " 5   label   2492 non-null   int64  \n",
      "dtypes: float64(4), int64(2)\n",
      "memory usage: 116.9 KB\n"
     ]
    }
   ],
   "source": [
    "data.info()"
   ]
  },
  {
   "cell_type": "code",
   "execution_count": 106,
   "id": "51a32488",
   "metadata": {},
   "outputs": [
    {
     "data": {
      "text/html": [
       "<div>\n",
       "<style scoped>\n",
       "    .dataframe tbody tr th:only-of-type {\n",
       "        vertical-align: middle;\n",
       "    }\n",
       "\n",
       "    .dataframe tbody tr th {\n",
       "        vertical-align: top;\n",
       "    }\n",
       "\n",
       "    .dataframe thead th {\n",
       "        text-align: right;\n",
       "    }\n",
       "</style>\n",
       "<table border=\"1\" class=\"dataframe\">\n",
       "  <thead>\n",
       "    <tr style=\"text-align: right;\">\n",
       "      <th></th>\n",
       "      <th>id</th>\n",
       "      <th>x1</th>\n",
       "      <th>y1</th>\n",
       "      <th>x2</th>\n",
       "      <th>y2</th>\n",
       "      <th>label</th>\n",
       "    </tr>\n",
       "  </thead>\n",
       "  <tbody>\n",
       "    <tr>\n",
       "      <th>0</th>\n",
       "      <td>0</td>\n",
       "      <td>102.0</td>\n",
       "      <td>99.0</td>\n",
       "      <td>224.0</td>\n",
       "      <td>149.0</td>\n",
       "      <td>1</td>\n",
       "    </tr>\n",
       "    <tr>\n",
       "      <th>1</th>\n",
       "      <td>0</td>\n",
       "      <td>0.0</td>\n",
       "      <td>86.0</td>\n",
       "      <td>74.0</td>\n",
       "      <td>164.0</td>\n",
       "      <td>2</td>\n",
       "    </tr>\n",
       "    <tr>\n",
       "      <th>2</th>\n",
       "      <td>1</td>\n",
       "      <td>0.0</td>\n",
       "      <td>105.0</td>\n",
       "      <td>136.0</td>\n",
       "      <td>163.0</td>\n",
       "      <td>1</td>\n",
       "    </tr>\n",
       "    <tr>\n",
       "      <th>3</th>\n",
       "      <td>1</td>\n",
       "      <td>222.0</td>\n",
       "      <td>95.0</td>\n",
       "      <td>224.0</td>\n",
       "      <td>167.0</td>\n",
       "      <td>3</td>\n",
       "    </tr>\n",
       "    <tr>\n",
       "      <th>4</th>\n",
       "      <td>2</td>\n",
       "      <td>0.0</td>\n",
       "      <td>104.0</td>\n",
       "      <td>86.0</td>\n",
       "      <td>157.0</td>\n",
       "      <td>1</td>\n",
       "    </tr>\n",
       "    <tr>\n",
       "      <th>5</th>\n",
       "      <td>2</td>\n",
       "      <td>110.0</td>\n",
       "      <td>94.0</td>\n",
       "      <td>154.0</td>\n",
       "      <td>162.0</td>\n",
       "      <td>3</td>\n",
       "    </tr>\n",
       "    <tr>\n",
       "      <th>6</th>\n",
       "      <td>3</td>\n",
       "      <td>221.0</td>\n",
       "      <td>117.0</td>\n",
       "      <td>224.0</td>\n",
       "      <td>158.0</td>\n",
       "      <td>1</td>\n",
       "    </tr>\n",
       "    <tr>\n",
       "      <th>7</th>\n",
       "      <td>3</td>\n",
       "      <td>0.0</td>\n",
       "      <td>121.0</td>\n",
       "      <td>28.0</td>\n",
       "      <td>168.0</td>\n",
       "      <td>3</td>\n",
       "    </tr>\n",
       "    <tr>\n",
       "      <th>8</th>\n",
       "      <td>3</td>\n",
       "      <td>149.0</td>\n",
       "      <td>104.0</td>\n",
       "      <td>190.0</td>\n",
       "      <td>145.0</td>\n",
       "      <td>3</td>\n",
       "    </tr>\n",
       "    <tr>\n",
       "      <th>9</th>\n",
       "      <td>4</td>\n",
       "      <td>155.0</td>\n",
       "      <td>103.0</td>\n",
       "      <td>192.0</td>\n",
       "      <td>145.0</td>\n",
       "      <td>3</td>\n",
       "    </tr>\n",
       "  </tbody>\n",
       "</table>\n",
       "</div>"
      ],
      "text/plain": [
       "   id     x1     y1     x2     y2  label\n",
       "0   0  102.0   99.0  224.0  149.0      1\n",
       "1   0    0.0   86.0   74.0  164.0      2\n",
       "2   1    0.0  105.0  136.0  163.0      1\n",
       "3   1  222.0   95.0  224.0  167.0      3\n",
       "4   2    0.0  104.0   86.0  157.0      1\n",
       "5   2  110.0   94.0  154.0  162.0      3\n",
       "6   3  221.0  117.0  224.0  158.0      1\n",
       "7   3    0.0  121.0   28.0  168.0      3\n",
       "8   3  149.0  104.0  190.0  145.0      3\n",
       "9   4  155.0  103.0  192.0  145.0      3"
      ]
     },
     "execution_count": 106,
     "metadata": {},
     "output_type": "execute_result"
    }
   ],
   "source": [
    "data.head(10)"
   ]
  },
  {
   "cell_type": "markdown",
   "id": "ebcc57e9",
   "metadata": {},
   "source": [
    "Была поставлена задача классификации, поэтому, полагаю, что использовать нужно сверточную сеть (как пример, ResNet50 или ResNet34, предобученную на ImageNET, в качестве backbone), в которой в выходном слое находится столько же нейронов, сколько и классов. То есть, в нашем случае, 7. Функцией активации для данного слоя должна быть SoftMax. Также, потребуется задать порог - threshold - вероятности, выше которой будет считаться, что объект находится на изображении. Это нужно, потому что наша нейросеть по сути будет выдавать вероятность нахождения каждого класса на картинке."
   ]
  },
  {
   "cell_type": "code",
   "execution_count": 107,
   "id": "e4327498",
   "metadata": {},
   "outputs": [
    {
     "ename": "ModuleNotFoundError",
     "evalue": "No module named 'pyimagesearch'",
     "output_type": "error",
     "traceback": [
      "\u001b[1;31m---------------------------------------------------------------------------\u001b[0m",
      "\u001b[1;31mModuleNotFoundError\u001b[0m                       Traceback (most recent call last)",
      "Cell \u001b[1;32mIn[107], line 1\u001b[0m\n\u001b[1;32m----> 1\u001b[0m \u001b[38;5;28;01mfrom\u001b[39;00m \u001b[38;5;21;01mpyimagesearch\u001b[39;00m\u001b[38;5;21;01m.\u001b[39;00m\u001b[38;5;21;01mbbox_regressor\u001b[39;00m \u001b[38;5;28;01mimport\u001b[39;00m ObjectDetector\n\u001b[0;32m      2\u001b[0m \u001b[38;5;28;01mfrom\u001b[39;00m \u001b[38;5;21;01mpyimagesearch\u001b[39;00m\u001b[38;5;21;01m.\u001b[39;00m\u001b[38;5;21;01mcustom_tensor_dataset\u001b[39;00m \u001b[38;5;28;01mimport\u001b[39;00m CustomTensorDataset\n\u001b[0;32m      3\u001b[0m \u001b[38;5;28;01mfrom\u001b[39;00m \u001b[38;5;21;01mpyimagesearch\u001b[39;00m \u001b[38;5;28;01mimport\u001b[39;00m config\n",
      "\u001b[1;31mModuleNotFoundError\u001b[0m: No module named 'pyimagesearch'"
     ]
    }
   ],
   "source": [
    "from pyimagesearch.bbox_regressor import ObjectDetector\n",
    "from pyimagesearch.custom_tensor_dataset import CustomTensorDataset\n",
    "from pyimagesearch import config\n",
    "from sklearn.preprocessing import LabelEncoder\n",
    "from torch.utils.data import DataLoader\n",
    "from torchvision import transforms\n",
    "from torch.nn import CrossEntropyLoss\n",
    "from torch.nn import MSELoss\n",
    "from torch.optim import Adam\n",
    "from torchvision.models import resnet50\n",
    "from sklearn.model_selection import train_test_split\n",
    "from imutils import paths\n",
    "from tqdm import tqdm\n",
    "import matplotlib.pyplot as plt\n",
    "import numpy as np\n",
    "import pickle\n",
    "import torch\n",
    "import time\n",
    "import cv2\n",
    "import os"
   ]
  }
 ],
 "metadata": {
  "kernelspec": {
   "display_name": "new",
   "language": "python",
   "name": "new"
  },
  "language_info": {
   "codemirror_mode": {
    "name": "ipython",
    "version": 3
   },
   "file_extension": ".py",
   "mimetype": "text/x-python",
   "name": "python",
   "nbconvert_exporter": "python",
   "pygments_lexer": "ipython3",
   "version": "3.9.16"
  },
  "toc": {
   "base_numbering": 1,
   "nav_menu": {
    "height": "160px",
    "width": "166.989px"
   },
   "number_sections": true,
   "sideBar": true,
   "skip_h1_title": true,
   "title_cell": "Создание синтетических данных и обучение на них модели для классификации мебели в интерьере",
   "title_sidebar": "Contents",
   "toc_cell": false,
   "toc_position": {
    "height": "calc(100% - 180px)",
    "left": "10px",
    "top": "150px",
    "width": "292.77px"
   },
   "toc_section_display": true,
   "toc_window_display": true
  }
 },
 "nbformat": 4,
 "nbformat_minor": 5
}
